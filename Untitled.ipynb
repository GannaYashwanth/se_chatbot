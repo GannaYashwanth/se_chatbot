{
 "cells": [
  {
   "cell_type": "code",
   "execution_count": 17,
   "id": "35432b18",
   "metadata": {},
   "outputs": [],
   "source": [
    "from selenium import webdriver\n",
    "from selenium.webdriver.common.keys import Keys\n",
    "from selenium.webdriver.common.by import By"
   ]
  },
  {
   "cell_type": "code",
   "execution_count": 6,
   "id": "54a3838f",
   "metadata": {},
   "outputs": [],
   "source": [
    "PATH = \"C:\\Program Files (x86)\\chromedriver.exe\""
   ]
  },
  {
   "cell_type": "code",
   "execution_count": 10,
   "id": "cf7cfded",
   "metadata": {},
   "outputs": [
    {
     "name": "stderr",
     "output_type": "stream",
     "text": [
      "C:\\Users\\YASHWANTH\\AppData\\Local\\Temp\\ipykernel_25428\\797652658.py:1: DeprecationWarning: executable_path has been deprecated, please pass in a Service object\n",
      "  driver = webdriver.Chrome(PATH)\n"
     ]
    }
   ],
   "source": [
    "driver = webdriver.Chrome(PATH)"
   ]
  },
  {
   "cell_type": "code",
   "execution_count": 11,
   "id": "e099781e",
   "metadata": {},
   "outputs": [],
   "source": [
    "driver.get(\"https://google.com\")"
   ]
  },
  {
   "cell_type": "code",
   "execution_count": 29,
   "id": "f768ed83",
   "metadata": {},
   "outputs": [],
   "source": [
    "google_search_box = driver.find_element(by=By.NAME, value='q')"
   ]
  },
  {
   "cell_type": "code",
   "execution_count": 30,
   "id": "c39b0a08",
   "metadata": {},
   "outputs": [],
   "source": [
    "google_search_box.clear()"
   ]
  },
  {
   "cell_type": "code",
   "execution_count": 31,
   "id": "68a845f4",
   "metadata": {},
   "outputs": [],
   "source": [
    "google_search_box.click()"
   ]
  },
  {
   "cell_type": "code",
   "execution_count": 32,
   "id": "c4305d2c",
   "metadata": {},
   "outputs": [],
   "source": [
    "google_search_box.send_keys(\"how to iterate through a list in python stackoverflow\")"
   ]
  },
  {
   "cell_type": "code",
   "execution_count": 33,
   "id": "0d385d55",
   "metadata": {},
   "outputs": [],
   "source": [
    "google_search_box.send_keys(Keys.ENTER)"
   ]
  },
  {
   "cell_type": "code",
   "execution_count": 35,
   "id": "392512d4",
   "metadata": {},
   "outputs": [],
   "source": [
    "driver.find_element(by=By.CLASS_NAME, value='yuRUbf').click()"
   ]
  },
  {
   "cell_type": "code",
   "execution_count": 36,
   "id": "d9477cff",
   "metadata": {},
   "outputs": [],
   "source": [
    "heading = driver.find_element(by=By.ID, value='question-header')"
   ]
  },
  {
   "cell_type": "code",
   "execution_count": 40,
   "id": "c6104c89",
   "metadata": {},
   "outputs": [],
   "source": [
    "heading = heading.text\n"
   ]
  },
  {
   "cell_type": "code",
   "execution_count": 42,
   "id": "6853b713",
   "metadata": {},
   "outputs": [],
   "source": [
    "heading = heading.split('\\n')[0]"
   ]
  },
  {
   "cell_type": "code",
   "execution_count": 43,
   "id": "1b7b3e5c",
   "metadata": {},
   "outputs": [
    {
     "data": {
      "text/plain": [
       "'Looping over a list in Python [closed]'"
      ]
     },
     "execution_count": 43,
     "metadata": {},
     "output_type": "execute_result"
    }
   ],
   "source": [
    "heading"
   ]
  },
  {
   "cell_type": "code",
   "execution_count": 48,
   "id": "556d97d1",
   "metadata": {},
   "outputs": [],
   "source": [
    "answers = driver.find_elements(by=By.CLASS_NAME, value='js-post-body')"
   ]
  },
  {
   "cell_type": "code",
   "execution_count": 49,
   "id": "1ce7f92c",
   "metadata": {},
   "outputs": [
    {
     "data": {
      "text/plain": [
       "[<selenium.webdriver.remote.webelement.WebElement (session=\"764d1e33a8ea8d989b01eca947337462\", element=\"60a64554-f9b8-4388-9f6a-17d829fa9baf\")>,\n",
       " <selenium.webdriver.remote.webelement.WebElement (session=\"764d1e33a8ea8d989b01eca947337462\", element=\"b4fc3930-e01a-4219-a067-a2ffdeeca611\")>,\n",
       " <selenium.webdriver.remote.webelement.WebElement (session=\"764d1e33a8ea8d989b01eca947337462\", element=\"eb90260e-b78b-4c64-8930-2180bde36a4f\")>,\n",
       " <selenium.webdriver.remote.webelement.WebElement (session=\"764d1e33a8ea8d989b01eca947337462\", element=\"19a7e2da-12fa-4472-b79e-c7f2b5440ec8\")>,\n",
       " <selenium.webdriver.remote.webelement.WebElement (session=\"764d1e33a8ea8d989b01eca947337462\", element=\"694cd95d-ad1f-47e0-8da7-1faaf372eaf3\")>]"
      ]
     },
     "execution_count": 49,
     "metadata": {},
     "output_type": "execute_result"
    }
   ],
   "source": [
    "answers"
   ]
  },
  {
   "cell_type": "code",
   "execution_count": null,
   "id": "97f22df8",
   "metadata": {},
   "outputs": [],
   "source": [
    "By.xpath(\"//div[@class='value test']\")"
   ]
  },
  {
   "cell_type": "code",
   "execution_count": null,
   "id": "f4980eda",
   "metadata": {},
   "outputs": [],
   "source": []
  },
  {
   "cell_type": "code",
   "execution_count": 53,
   "id": "8674b4f5",
   "metadata": {},
   "outputs": [],
   "source": [
    "votes = driver.find_elements(by=By.CLASS_NAME, value='js-vote-count')"
   ]
  },
  {
   "cell_type": "code",
   "execution_count": 54,
   "id": "6a801f52",
   "metadata": {},
   "outputs": [
    {
     "name": "stdout",
     "output_type": "stream",
     "text": [
      "185\n",
      "208\n",
      "17\n",
      "2\n",
      "16\n"
     ]
    }
   ],
   "source": [
    "for vote in votes:\n",
    "    print(vote.text)"
   ]
  },
  {
   "cell_type": "code",
   "execution_count": 57,
   "id": "a460df4a",
   "metadata": {},
   "outputs": [
    {
     "name": "stdout",
     "output_type": "stream",
     "text": [
      "208\n",
      "\n",
      "x in mylist is better and more readable than x in mylist[:] and your len(x) should be equal to 3.\n",
      ">>> mylist = [[1,2,3],[4,5,6,7],[8,9,10]]\n",
      ">>> for x in mylist:\n",
      "...      if len(x)==3:\n",
      "...        print x\n",
      "...\n",
      "[1, 2, 3]\n",
      "[8, 9, 10]\n",
      "or if you need more pythonic use list-comprehensions\n",
      ">>> [x for x in mylist if len(x)==3]\n",
      "[[1, 2, 3], [8, 9, 10]]\n",
      ">>>\n",
      "\n",
      "---------------\n",
      "\n",
      "17\n",
      "\n",
      "You may as well use for x in values rather than for x in values[:]; the latter makes an unnecessary copy. Also, of course that code checks for a length of 2 rather than of 3...\n",
      "The code only prints one item per value of x - and x is iterating over the elements of values, which are the sublists. So it will only print each sublist once.\n",
      "\n",
      "---------------\n",
      "\n",
      "2\n",
      "\n",
      "Do this instead:\n",
      "values = [[1,2,3],[4,5]]\n",
      "for x in values:\n",
      "    if len(x) == 3:\n",
      "       print(x)\n",
      "\n",
      "---------------\n",
      "\n",
      "16\n",
      "\n",
      "Here is the solution I was looking for. If you would like to create List2 that contains the difference of the number elements in List1.\n",
      "list1 = [12, 15, 22, 54, 21, 68, 9, 73, 81, 34, 45]\n",
      "list2 = []\n",
      "for i in range(1, len(list1)):\n",
      "  change = list1[i] - list1[i-1]\n",
      "  list2.append(change)\n",
      "Note that while len(list1) is 11 (elements), len(list2) will only be 10 elements because we are starting our for loop from element with index 1 in list1 not from element with index 0 in list1\n",
      "\n",
      "---------------\n",
      "\n"
     ]
    }
   ],
   "source": [
    "for (answer, vote) in zip(answers[1:], votes[1:]):\n",
    "    print(vote.text)\n",
    "    print()\n",
    "    print(answer.text)\n",
    "    print()\n",
    "    print('-'*15)\n",
    "    print()"
   ]
  },
  {
   "cell_type": "code",
   "execution_count": 59,
   "id": "16522d72",
   "metadata": {},
   "outputs": [],
   "source": [
    "vote_bar = driver.find_elements(by=By.CLASS_NAME, value='js-voting-container')"
   ]
  },
  {
   "cell_type": "code",
   "execution_count": 60,
   "id": "29ef2617",
   "metadata": {},
   "outputs": [
    {
     "data": {
      "text/plain": [
       "5"
      ]
     },
     "execution_count": 60,
     "metadata": {},
     "output_type": "execute_result"
    }
   ],
   "source": [
    "len(vote_bar)"
   ]
  },
  {
   "cell_type": "code",
   "execution_count": 65,
   "id": "fb721000",
   "metadata": {},
   "outputs": [
    {
     "name": "stdout",
     "output_type": "stream",
     "text": [
      "185\n",
      "not found\n",
      "208\n",
      "found\n",
      "17\n",
      "found\n",
      "2\n",
      "found\n",
      "16\n",
      "found\n"
     ]
    }
   ],
   "source": [
    "for vote in vote_bar:\n",
    "    print(vote.find_element(by=By.CLASS_NAME, value='js-vote-count').text)\n",
    "    try:\n",
    "        vote.find_element(by=By.CSS_SELECTOR, value='div.js-accepted-answer-indicator.d-none')\n",
    "        print('found')\n",
    "    except:\n",
    "        print('not found')"
   ]
  },
  {
   "cell_type": "code",
   "execution_count": null,
   "id": "b967b6c4",
   "metadata": {},
   "outputs": [],
   "source": []
  }
 ],
 "metadata": {
  "kernelspec": {
   "display_name": "Python 3 (ipykernel)",
   "language": "python",
   "name": "python3"
  },
  "language_info": {
   "codemirror_mode": {
    "name": "ipython",
    "version": 3
   },
   "file_extension": ".py",
   "mimetype": "text/x-python",
   "name": "python",
   "nbconvert_exporter": "python",
   "pygments_lexer": "ipython3",
   "version": "3.10.1"
  }
 },
 "nbformat": 4,
 "nbformat_minor": 5
}
