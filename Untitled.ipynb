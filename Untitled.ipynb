{
 "cells": [
  {
   "cell_type": "code",
   "execution_count": 17,
   "id": "72bd8da7",
   "metadata": {},
   "outputs": [],
   "source": [
    "from selenium import webdriver\n",
    "from selenium.webdriver.common.keys import Keys\n",
    "from selenium.webdriver.common.by import By"
   ]
  },
  {
   "cell_type": "code",
   "execution_count": 6,
   "id": "32146b10",
   "metadata": {},
   "outputs": [],
   "source": [
    "PATH = \"C:\\Program Files (x86)\\chromedriver.exe\""
   ]
  },
  {
   "cell_type": "code",
   "execution_count": 10,
   "id": "d832cfc7",
   "metadata": {},
   "outputs": [
    {
     "name": "stderr",
     "output_type": "stream",
     "text": [
      "C:\\Users\\YASHWANTH\\AppData\\Local\\Temp\\ipykernel_25428\\797652658.py:1: DeprecationWarning: executable_path has been deprecated, please pass in a Service object\n",
      "  driver = webdriver.Chrome(PATH)\n"
     ]
    }
   ],
   "source": [
    "driver = webdriver.Chrome(PATH)"
   ]
  },
  {
   "cell_type": "code",
   "execution_count": 11,
   "id": "809d6d5c",
   "metadata": {},
   "outputs": [],
   "source": [
    "driver.get(\"https://google.com\")"
   ]
  },
  {
   "cell_type": "code",
   "execution_count": 29,
   "id": "ea5d3e90",
   "metadata": {},
   "outputs": [],
   "source": [
    "google_search_box = driver.find_element(by=By.NAME, value='q')"
   ]
  },
  {
   "cell_type": "code",
   "execution_count": 30,
   "id": "61401dc8",
   "metadata": {},
   "outputs": [],
   "source": [
    "google_search_box.clear()"
   ]
  },
  {
   "cell_type": "code",
   "execution_count": 31,
   "id": "a8234566",
   "metadata": {},
   "outputs": [],
   "source": [
    "google_search_box.click()"
   ]
  },
  {
   "cell_type": "code",
   "execution_count": 32,
   "id": "f72154ab",
   "metadata": {},
   "outputs": [],
   "source": [
    "google_search_box.send_keys(\"how to iterate through a list in python stackoverflow\")"
   ]
  },
  {
   "cell_type": "code",
   "execution_count": 33,
   "id": "708ba65b",
   "metadata": {},
   "outputs": [],
   "source": [
    "google_search_box.send_keys(Keys.ENTER)"
   ]
  },
  {
   "cell_type": "code",
   "execution_count": 35,
   "id": "95255e10",
   "metadata": {},
   "outputs": [],
   "source": [
    "driver.find_element(by=By.CLASS_NAME, value='yuRUbf').click()"
   ]
  },
  {
   "cell_type": "code",
   "execution_count": 36,
   "id": "e5e59b4c",
   "metadata": {},
   "outputs": [],
   "source": [
    "heading = driver.find_element(by=By.ID, value='question-header')"
   ]
  },
  {
   "cell_type": "code",
   "execution_count": 40,
   "id": "d777b484",
   "metadata": {},
   "outputs": [],
   "source": [
    "heading = heading.text\n"
   ]
  },
  {
   "cell_type": "code",
   "execution_count": 42,
   "id": "8806a998",
   "metadata": {},
   "outputs": [],
   "source": [
    "heading = heading.split('\\n')[0]"
   ]
  },
  {
   "cell_type": "code",
   "execution_count": 43,
   "id": "77a73607",
   "metadata": {},
   "outputs": [
    {
     "data": {
      "text/plain": [
       "'Looping over a list in Python [closed]'"
      ]
     },
     "execution_count": 43,
     "metadata": {},
     "output_type": "execute_result"
    }
   ],
   "source": [
    "heading"
   ]
  },
  {
   "cell_type": "code",
   "execution_count": 48,
   "id": "1995190b",
   "metadata": {},
   "outputs": [],
   "source": [
    "answers = driver.find_elements(by=By.CLASS_NAME, value='js-post-body')"
   ]
  },
  {
   "cell_type": "code",
   "execution_count": 49,
   "id": "2f962438",
   "metadata": {},
   "outputs": [
    {
     "data": {
      "text/plain": [
       "[<selenium.webdriver.remote.webelement.WebElement (session=\"764d1e33a8ea8d989b01eca947337462\", element=\"60a64554-f9b8-4388-9f6a-17d829fa9baf\")>,\n",
       " <selenium.webdriver.remote.webelement.WebElement (session=\"764d1e33a8ea8d989b01eca947337462\", element=\"b4fc3930-e01a-4219-a067-a2ffdeeca611\")>,\n",
       " <selenium.webdriver.remote.webelement.WebElement (session=\"764d1e33a8ea8d989b01eca947337462\", element=\"eb90260e-b78b-4c64-8930-2180bde36a4f\")>,\n",
       " <selenium.webdriver.remote.webelement.WebElement (session=\"764d1e33a8ea8d989b01eca947337462\", element=\"19a7e2da-12fa-4472-b79e-c7f2b5440ec8\")>,\n",
       " <selenium.webdriver.remote.webelement.WebElement (session=\"764d1e33a8ea8d989b01eca947337462\", element=\"694cd95d-ad1f-47e0-8da7-1faaf372eaf3\")>]"
      ]
     },
     "execution_count": 49,
     "metadata": {},
     "output_type": "execute_result"
    }
   ],
   "source": [
    "answers"
   ]
  },
  {
   "cell_type": "code",
   "execution_count": null,
   "id": "f0d1aafb",
   "metadata": {},
   "outputs": [],
   "source": [
    "By.xpath(\"//div[@class='value test']\")"
   ]
  },
  {
   "cell_type": "code",
   "execution_count": null,
   "id": "b438c093",
   "metadata": {},
   "outputs": [],
   "source": []
  },
  {
   "cell_type": "code",
   "execution_count": 53,
   "id": "c799f992",
   "metadata": {},
   "outputs": [],
   "source": [
    "votes = driver.find_elements(by=By.CLASS_NAME, value='js-vote-count')"
   ]
  },
  {
   "cell_type": "code",
   "execution_count": 54,
   "id": "9749c27a",
   "metadata": {},
   "outputs": [
    {
     "name": "stdout",
     "output_type": "stream",
     "text": [
      "185\n",
      "208\n",
      "17\n",
      "2\n",
      "16\n"
     ]
    }
   ],
   "source": [
    "for vote in votes:\n",
    "    print(vote.text)"
   ]
  },
  {
   "cell_type": "code",
   "execution_count": 55,
   "id": "1c0e3088",
   "metadata": {},
   "outputs": [
    {
     "ename": "ValueError",
     "evalue": "too many values to unpack (expected 2)",
     "output_type": "error",
     "traceback": [
      "\u001b[1;31m---------------------------------------------------------------------------\u001b[0m",
      "\u001b[1;31mValueError\u001b[0m                                Traceback (most recent call last)",
      "Input \u001b[1;32mIn [55]\u001b[0m, in \u001b[0;36m<cell line: 1>\u001b[1;34m()\u001b[0m\n\u001b[1;32m----> 1\u001b[0m \u001b[38;5;28;01mfor\u001b[39;00m answer, vote \u001b[38;5;129;01min\u001b[39;00m answers[\u001b[38;5;241m1\u001b[39m:], votes[\u001b[38;5;241m1\u001b[39m:]:\n\u001b[0;32m      2\u001b[0m     \u001b[38;5;28mprint\u001b[39m(vote)\n\u001b[0;32m      3\u001b[0m     \u001b[38;5;28mprint\u001b[39m()\n",
      "\u001b[1;31mValueError\u001b[0m: too many values to unpack (expected 2)"
     ]
    }
   ],
   "source": [
    "for answer, vote in answers[1:], votes[1:]:\n",
    "    print(vote)\n",
    "    print()\n",
    "    print(answer.text)\n",
    "    print()\n",
    "    print('-'*15)\n",
    "    print()"
   ]
  },
  {
   "cell_type": "code",
   "execution_count": null,
   "id": "6494addf",
   "metadata": {},
   "outputs": [],
   "source": []
  }
 ],
 "metadata": {
  "kernelspec": {
   "display_name": "Python 3 (ipykernel)",
   "language": "python",
   "name": "python3"
  },
  "language_info": {
   "codemirror_mode": {
    "name": "ipython",
    "version": 3
   },
   "file_extension": ".py",
   "mimetype": "text/x-python",
   "name": "python",
   "nbconvert_exporter": "python",
   "pygments_lexer": "ipython3",
   "version": "3.10.1"
  }
 },
 "nbformat": 4,
 "nbformat_minor": 5
}
